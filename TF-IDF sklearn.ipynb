{
 "cells": [
  {
   "cell_type": "code",
   "execution_count": 1,
   "metadata": {},
   "outputs": [],
   "source": [
    "from sklearn.feature_extraction.text import TfidfVectorizer\n",
    "from sklearn.feature_extraction.text import TfidfTransformer\n",
    "from sklearn.feature_extraction.text import CountVectorizer\n",
    "from sklearn.metrics.pairwise import cosine_similarity"
   ]
  },
  {
   "cell_type": "code",
   "execution_count": 2,
   "metadata": {},
   "outputs": [],
   "source": [
    "docs = [\n",
    "    \"I love NLP\",\n",
    "    \"Today I learnt NLP\",\n",
    "    \"AI is the future\",\n",
    "    \"I like Machine Learning\",\n",
    "    \"I went to my university yesterday\",\n",
    "]"
   ]
  },
  {
   "attachments": {},
   "cell_type": "markdown",
   "metadata": {},
   "source": [
    "### 1. Use TfidfVectorizer()"
   ]
  },
  {
   "cell_type": "code",
   "execution_count": 3,
   "metadata": {},
   "outputs": [
    {
     "name": "stdout",
     "output_type": "stream",
     "text": [
      "idf:\n",
      "ai 2.09861228866811\n",
      "future 2.09861228866811\n",
      "is 2.09861228866811\n",
      "learning 2.09861228866811\n",
      "learnt 2.09861228866811\n",
      "like 2.09861228866811\n",
      "love 2.09861228866811\n",
      "machine 2.09861228866811\n",
      "my 2.09861228866811\n",
      "nlp 1.6931471805599454\n",
      "the 2.09861228866811\n",
      "to 2.09861228866811\n",
      "today 2.09861228866811\n",
      "university 2.09861228866811\n",
      "went 2.09861228866811\n",
      "yesterday 2.09861228866811\n"
     ]
    }
   ],
   "source": [
    "vect = TfidfVectorizer()\n",
    "docs_tfidf = vect.fit_transform(docs)\n",
    "\n",
    "print(\"idf:\")\n",
    "for idf, word in zip(vect.idf_,vect.get_feature_names_out()):\n",
    "    print(word,idf)"
   ]
  },
  {
   "cell_type": "code",
   "execution_count": 4,
   "metadata": {},
   "outputs": [],
   "source": [
    "s = \"AI is super fanstastic\"\n",
    "tfidf_s = vect.transform([s])"
   ]
  },
  {
   "cell_type": "code",
   "execution_count": 5,
   "metadata": {},
   "outputs": [
    {
     "data": {
      "text/plain": [
       "'AI is the future'"
      ]
     },
     "execution_count": 5,
     "metadata": {},
     "output_type": "execute_result"
    }
   ],
   "source": [
    "val = cosine_similarity(docs_tfidf,tfidf_s)\n",
    "docs[val.ravel().argmax()]\n"
   ]
  },
  {
   "attachments": {},
   "cell_type": "markdown",
   "metadata": {},
   "source": [
    "### 2. Use TfidfTransformer() and CountVectorizer()"
   ]
  },
  {
   "cell_type": "code",
   "execution_count": 19,
   "metadata": {},
   "outputs": [],
   "source": [
    "vect = CountVectorizer()\n",
    "trans = TfidfTransformer()\n",
    "docs_vect = vect.fit_transform(docs)\n",
    "docs_tfidf = trans.fit_transform(docs_vect)"
   ]
  },
  {
   "cell_type": "code",
   "execution_count": 20,
   "metadata": {},
   "outputs": [
    {
     "name": "stdout",
     "output_type": "stream",
     "text": [
      "idf:\n",
      "ai 2.09861228866811\n",
      "future 2.09861228866811\n",
      "is 2.09861228866811\n",
      "learning 2.09861228866811\n",
      "learnt 2.09861228866811\n",
      "like 2.09861228866811\n",
      "love 2.09861228866811\n",
      "machine 2.09861228866811\n",
      "my 2.09861228866811\n",
      "nlp 1.6931471805599454\n",
      "the 2.09861228866811\n",
      "to 2.09861228866811\n",
      "today 2.09861228866811\n",
      "university 2.09861228866811\n",
      "went 2.09861228866811\n",
      "yesterday 2.09861228866811\n"
     ]
    }
   ],
   "source": [
    "print(\"idf:\")\n",
    "for idf, word in zip(trans.idf_,vect.get_feature_names_out()):\n",
    "    print(word,idf)"
   ]
  },
  {
   "cell_type": "code",
   "execution_count": 22,
   "metadata": {},
   "outputs": [],
   "source": [
    "s = \"AI is super fanstastic\"\n",
    "s_vect = vect.fit_transform([s])\n",
    "s_tfidf = trans.fit_transform(s_vect)"
   ]
  },
  {
   "cell_type": "code",
   "execution_count": 23,
   "metadata": {},
   "outputs": [
    {
     "data": {
      "text/plain": [
       "'AI is the future'"
      ]
     },
     "execution_count": 23,
     "metadata": {},
     "output_type": "execute_result"
    }
   ],
   "source": [
    "val = cosine_similarity(docs_tfidf,tfidf_s)\n",
    "docs[val.ravel().argmax()]"
   ]
  }
 ],
 "metadata": {
  "kernelspec": {
   "display_name": "base",
   "language": "python",
   "name": "python3"
  },
  "language_info": {
   "codemirror_mode": {
    "name": "ipython",
    "version": 3
   },
   "file_extension": ".py",
   "mimetype": "text/x-python",
   "name": "python",
   "nbconvert_exporter": "python",
   "pygments_lexer": "ipython3",
   "version": "3.10.9"
  },
  "orig_nbformat": 4
 },
 "nbformat": 4,
 "nbformat_minor": 2
}
