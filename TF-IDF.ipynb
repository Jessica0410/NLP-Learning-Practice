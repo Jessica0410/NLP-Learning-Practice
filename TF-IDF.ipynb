{
 "cells": [
  {
   "cell_type": "code",
   "execution_count": 1,
   "metadata": {},
   "outputs": [],
   "source": [
    "import math\n",
    "import itertools\n",
    "import pandas as pd\n",
    "import numpy as np"
   ]
  },
  {
   "attachments": {},
   "cell_type": "markdown",
   "metadata": {},
   "source": [
    "## Create Documents"
   ]
  },
  {
   "cell_type": "code",
   "execution_count": 2,
   "metadata": {},
   "outputs": [],
   "source": [
    "docA = \"I love NLP\"\n",
    "docB = \"Today I learnt NLP\"\n",
    "docC = \"AI is the future\"\n",
    "docD = \"I like Machine Learning\"\n",
    "docE = \"I went to my university yesterday\"\n",
    "docs = [docA, docB, docC, docD, docE]"
   ]
  },
  {
   "attachments": {},
   "cell_type": "markdown",
   "metadata": {},
   "source": [
    "## Convert text into vectors of numbers\n",
    "### Bag Of Words"
   ]
  },
  {
   "cell_type": "code",
   "execution_count": 3,
   "metadata": {},
   "outputs": [],
   "source": [
    "bagOfWordsA = docA.split(\" \")\n",
    "bagOfWordsB = docB.split(\" \")\n",
    "bagOfWordsC = docC.split(\" \")\n",
    "bagOfWordsD = docD.split(\" \")\n",
    "bagOfWordsE = docE.split(\" \")"
   ]
  },
  {
   "attachments": {},
   "cell_type": "markdown",
   "metadata": {},
   "source": [
    "### Remove duplicated words"
   ]
  },
  {
   "cell_type": "code",
   "execution_count": 4,
   "metadata": {},
   "outputs": [
    {
     "data": {
      "text/plain": [
       "{'AI',\n",
       " 'I',\n",
       " 'Learning',\n",
       " 'Machine',\n",
       " 'NLP',\n",
       " 'Today',\n",
       " 'future',\n",
       " 'is',\n",
       " 'learnt',\n",
       " 'like',\n",
       " 'love',\n",
       " 'my',\n",
       " 'the',\n",
       " 'to',\n",
       " 'university',\n",
       " 'went',\n",
       " 'yesterday'}"
      ]
     },
     "execution_count": 4,
     "metadata": {},
     "output_type": "execute_result"
    }
   ],
   "source": [
    "bagOfWords = [bagOfWordsA, bagOfWordsB, bagOfWordsC, bagOfWordsD, bagOfWordsE]\n",
    "words = set(itertools.chain(*bagOfWords))\n",
    "words"
   ]
  },
  {
   "attachments": {},
   "cell_type": "markdown",
   "metadata": {},
   "source": [
    "## Count the number of each word\n",
    "\n",
    "### Store the number of words using dictionary"
   ]
  },
  {
   "cell_type": "code",
   "execution_count": 5,
   "metadata": {},
   "outputs": [],
   "source": [
    "wordDictA = dict.fromkeys(words,0)\n",
    "wordDictB = dict.fromkeys(words,0)\n",
    "wordDictC = dict.fromkeys(words,0)\n",
    "wordDictD = dict.fromkeys(words,0)\n",
    "wordDictE = dict.fromkeys(words,0)\n",
    "wordDict = [wordDictA,wordDictB, wordDictC, wordDictD, wordDictE]"
   ]
  },
  {
   "cell_type": "code",
   "execution_count": 6,
   "metadata": {},
   "outputs": [],
   "source": [
    "def countWords(wordDict,bagOfWord):\n",
    "    for w in bagOfWord:\n",
    "        wordDict[w]+= 1\n",
    "    return wordDict"
   ]
  },
  {
   "cell_type": "code",
   "execution_count": 7,
   "metadata": {},
   "outputs": [],
   "source": [
    "for i in range(len(wordDict)):\n",
    "    wordDict[i] = countWords(wordDict[i],bagOfWords[i])   "
   ]
  },
  {
   "attachments": {},
   "cell_type": "markdown",
   "metadata": {},
   "source": [
    "## Calculate TF-IDF\n",
    "### Calculate TF\n",
    "TF = (num of the word w) / (num of total words)"
   ]
  },
  {
   "cell_type": "code",
   "execution_count": 8,
   "metadata": {},
   "outputs": [],
   "source": [
    "def countTF(wordDict,bagOfWord):\n",
    "    tfDict={}\n",
    "    for word,count in wordDict.items():\n",
    "        tfDict[word] = count/len(bagOfWord)\n",
    "    return tfDict"
   ]
  },
  {
   "cell_type": "code",
   "execution_count": 9,
   "metadata": {},
   "outputs": [],
   "source": [
    "tfA = countTF(wordDictA,bagOfWordsA)\n",
    "tfB = countTF(wordDictB,bagOfWordsB)\n",
    "tfC = countTF(wordDictC,bagOfWordsC)\n",
    "tfD = countTF(wordDictD,bagOfWordsD)\n",
    "tfE = countTF(wordDictE,bagOfWordsE)"
   ]
  },
  {
   "attachments": {},
   "cell_type": "markdown",
   "metadata": {},
   "source": [
    "### Calculate IDF\n",
    "IDF = log((num of docs/(num of docs contains w + 1))"
   ]
  },
  {
   "cell_type": "code",
   "execution_count": 10,
   "metadata": {},
   "outputs": [],
   "source": [
    "def calculateIDF(wordDict):\n",
    "    idfDict=dict.fromkeys(wordDict[0],0)\n",
    "    N = len(wordDict)\n",
    "    for wd in wordDict:\n",
    "        for w,i in wd.items():\n",
    "            if i>0:\n",
    "                idfDict[w] += 1 \n",
    "\n",
    "    for word,num in idfDict.items():\n",
    "        idfDict[word]= np.log(N/(num+1))\n",
    "    \n",
    "    return idfDict"
   ]
  },
  {
   "cell_type": "code",
   "execution_count": 11,
   "metadata": {},
   "outputs": [
    {
     "data": {
      "text/plain": [
       "{'my': 0.9162907318741551,\n",
       " 'university': 0.9162907318741551,\n",
       " 'love': 0.9162907318741551,\n",
       " 'AI': 0.9162907318741551,\n",
       " 'like': 0.9162907318741551,\n",
       " 'learnt': 0.9162907318741551,\n",
       " 'NLP': 0.5108256237659907,\n",
       " 'future': 0.9162907318741551,\n",
       " 'Learning': 0.9162907318741551,\n",
       " 'yesterday': 0.9162907318741551,\n",
       " 'I': 0.0,\n",
       " 'Today': 0.9162907318741551,\n",
       " 'to': 0.9162907318741551,\n",
       " 'is': 0.9162907318741551,\n",
       " 'Machine': 0.9162907318741551,\n",
       " 'the': 0.9162907318741551,\n",
       " 'went': 0.9162907318741551}"
      ]
     },
     "execution_count": 11,
     "metadata": {},
     "output_type": "execute_result"
    }
   ],
   "source": [
    "idf = calculateIDF(wordDict)\n",
    "idf"
   ]
  },
  {
   "attachments": {},
   "cell_type": "markdown",
   "metadata": {},
   "source": [
    "### Calculate TF-IDF\n",
    "TF-IDF = TF x IDF"
   ]
  },
  {
   "cell_type": "code",
   "execution_count": 12,
   "metadata": {},
   "outputs": [],
   "source": [
    "def tfIdf(tf,idf):\n",
    "    tfidf={}\n",
    "    for word,num in tf.items():\n",
    "        tfidf[word]= num * idf[word]\n",
    "    return tfidf     "
   ]
  },
  {
   "cell_type": "code",
   "execution_count": 13,
   "metadata": {},
   "outputs": [],
   "source": [
    "tfidfA = tfIdf(tfA,idf)\n",
    "tfidfB = tfIdf(tfB,idf)\n",
    "tfidfC = tfIdf(tfC,idf)\n",
    "tfidfD = tfIdf(tfD,idf)\n",
    "tfidfE = tfIdf(tfE,idf)\n",
    "\n",
    "tfidf = [tfidfA,tfidfB, tfidfC, tfidfD, tfidfE]"
   ]
  },
  {
   "cell_type": "code",
   "execution_count": 14,
   "metadata": {},
   "outputs": [
    {
     "data": {
      "text/html": [
       "<div>\n",
       "<style scoped>\n",
       "    .dataframe tbody tr th:only-of-type {\n",
       "        vertical-align: middle;\n",
       "    }\n",
       "\n",
       "    .dataframe tbody tr th {\n",
       "        vertical-align: top;\n",
       "    }\n",
       "\n",
       "    .dataframe thead th {\n",
       "        text-align: right;\n",
       "    }\n",
       "</style>\n",
       "<table border=\"1\" class=\"dataframe\">\n",
       "  <thead>\n",
       "    <tr style=\"text-align: right;\">\n",
       "      <th></th>\n",
       "      <th>my</th>\n",
       "      <th>university</th>\n",
       "      <th>love</th>\n",
       "      <th>AI</th>\n",
       "      <th>like</th>\n",
       "      <th>learnt</th>\n",
       "      <th>NLP</th>\n",
       "      <th>future</th>\n",
       "      <th>Learning</th>\n",
       "      <th>yesterday</th>\n",
       "      <th>I</th>\n",
       "      <th>Today</th>\n",
       "      <th>to</th>\n",
       "      <th>is</th>\n",
       "      <th>Machine</th>\n",
       "      <th>the</th>\n",
       "      <th>went</th>\n",
       "    </tr>\n",
       "  </thead>\n",
       "  <tbody>\n",
       "    <tr>\n",
       "      <th>0</th>\n",
       "      <td>0.000000</td>\n",
       "      <td>0.000000</td>\n",
       "      <td>0.30543</td>\n",
       "      <td>0.000000</td>\n",
       "      <td>0.000000</td>\n",
       "      <td>0.000000</td>\n",
       "      <td>0.170275</td>\n",
       "      <td>0.000000</td>\n",
       "      <td>0.000000</td>\n",
       "      <td>0.000000</td>\n",
       "      <td>0.0</td>\n",
       "      <td>0.000000</td>\n",
       "      <td>0.000000</td>\n",
       "      <td>0.000000</td>\n",
       "      <td>0.000000</td>\n",
       "      <td>0.000000</td>\n",
       "      <td>0.000000</td>\n",
       "    </tr>\n",
       "    <tr>\n",
       "      <th>1</th>\n",
       "      <td>0.000000</td>\n",
       "      <td>0.000000</td>\n",
       "      <td>0.00000</td>\n",
       "      <td>0.000000</td>\n",
       "      <td>0.000000</td>\n",
       "      <td>0.229073</td>\n",
       "      <td>0.127706</td>\n",
       "      <td>0.000000</td>\n",
       "      <td>0.000000</td>\n",
       "      <td>0.000000</td>\n",
       "      <td>0.0</td>\n",
       "      <td>0.229073</td>\n",
       "      <td>0.000000</td>\n",
       "      <td>0.000000</td>\n",
       "      <td>0.000000</td>\n",
       "      <td>0.000000</td>\n",
       "      <td>0.000000</td>\n",
       "    </tr>\n",
       "    <tr>\n",
       "      <th>2</th>\n",
       "      <td>0.000000</td>\n",
       "      <td>0.000000</td>\n",
       "      <td>0.00000</td>\n",
       "      <td>0.229073</td>\n",
       "      <td>0.000000</td>\n",
       "      <td>0.000000</td>\n",
       "      <td>0.000000</td>\n",
       "      <td>0.229073</td>\n",
       "      <td>0.000000</td>\n",
       "      <td>0.000000</td>\n",
       "      <td>0.0</td>\n",
       "      <td>0.000000</td>\n",
       "      <td>0.000000</td>\n",
       "      <td>0.229073</td>\n",
       "      <td>0.000000</td>\n",
       "      <td>0.229073</td>\n",
       "      <td>0.000000</td>\n",
       "    </tr>\n",
       "    <tr>\n",
       "      <th>3</th>\n",
       "      <td>0.000000</td>\n",
       "      <td>0.000000</td>\n",
       "      <td>0.00000</td>\n",
       "      <td>0.000000</td>\n",
       "      <td>0.229073</td>\n",
       "      <td>0.000000</td>\n",
       "      <td>0.000000</td>\n",
       "      <td>0.000000</td>\n",
       "      <td>0.229073</td>\n",
       "      <td>0.000000</td>\n",
       "      <td>0.0</td>\n",
       "      <td>0.000000</td>\n",
       "      <td>0.000000</td>\n",
       "      <td>0.000000</td>\n",
       "      <td>0.229073</td>\n",
       "      <td>0.000000</td>\n",
       "      <td>0.000000</td>\n",
       "    </tr>\n",
       "    <tr>\n",
       "      <th>4</th>\n",
       "      <td>0.152715</td>\n",
       "      <td>0.152715</td>\n",
       "      <td>0.00000</td>\n",
       "      <td>0.000000</td>\n",
       "      <td>0.000000</td>\n",
       "      <td>0.000000</td>\n",
       "      <td>0.000000</td>\n",
       "      <td>0.000000</td>\n",
       "      <td>0.000000</td>\n",
       "      <td>0.152715</td>\n",
       "      <td>0.0</td>\n",
       "      <td>0.000000</td>\n",
       "      <td>0.152715</td>\n",
       "      <td>0.000000</td>\n",
       "      <td>0.000000</td>\n",
       "      <td>0.000000</td>\n",
       "      <td>0.152715</td>\n",
       "    </tr>\n",
       "  </tbody>\n",
       "</table>\n",
       "</div>"
      ],
      "text/plain": [
       "         my  university     love        AI      like    learnt       NLP  \\\n",
       "0  0.000000    0.000000  0.30543  0.000000  0.000000  0.000000  0.170275   \n",
       "1  0.000000    0.000000  0.00000  0.000000  0.000000  0.229073  0.127706   \n",
       "2  0.000000    0.000000  0.00000  0.229073  0.000000  0.000000  0.000000   \n",
       "3  0.000000    0.000000  0.00000  0.000000  0.229073  0.000000  0.000000   \n",
       "4  0.152715    0.152715  0.00000  0.000000  0.000000  0.000000  0.000000   \n",
       "\n",
       "     future  Learning  yesterday    I     Today        to        is   Machine  \\\n",
       "0  0.000000  0.000000   0.000000  0.0  0.000000  0.000000  0.000000  0.000000   \n",
       "1  0.000000  0.000000   0.000000  0.0  0.229073  0.000000  0.000000  0.000000   \n",
       "2  0.229073  0.000000   0.000000  0.0  0.000000  0.000000  0.229073  0.000000   \n",
       "3  0.000000  0.229073   0.000000  0.0  0.000000  0.000000  0.000000  0.229073   \n",
       "4  0.000000  0.000000   0.152715  0.0  0.000000  0.152715  0.000000  0.000000   \n",
       "\n",
       "        the      went  \n",
       "0  0.000000  0.000000  \n",
       "1  0.000000  0.000000  \n",
       "2  0.229073  0.000000  \n",
       "3  0.000000  0.000000  \n",
       "4  0.000000  0.152715  "
      ]
     },
     "execution_count": 14,
     "metadata": {},
     "output_type": "execute_result"
    }
   ],
   "source": [
    "tfidf_pd = pd.DataFrame(tfidf)\n",
    "tfidf_pd"
   ]
  },
  {
   "attachments": {},
   "cell_type": "markdown",
   "metadata": {},
   "source": [
    "## Calculate Cosine Distance"
   ]
  },
  {
   "cell_type": "code",
   "execution_count": 15,
   "metadata": {},
   "outputs": [],
   "source": [
    "def cosDistance(sentence, tfIdf):\n",
    "    return np.dot(sentence,tfIdf)/(np.linalg.norm(sentence) * np.linalg.norm(tfIdf))"
   ]
  },
  {
   "attachments": {},
   "cell_type": "markdown",
   "metadata": {},
   "source": [
    "## Sample Test"
   ]
  },
  {
   "cell_type": "code",
   "execution_count": 18,
   "metadata": {},
   "outputs": [],
   "source": [
    "sentence = \"AI is super fanstastic\"\n",
    "bagOfWordsS = sentence.split(\" \")"
   ]
  },
  {
   "cell_type": "code",
   "execution_count": 19,
   "metadata": {},
   "outputs": [],
   "source": [
    "bagOfWords_new = bagOfWords.copy()\n",
    "bagOfWords_new.append(bagOfWordsS)"
   ]
  },
  {
   "cell_type": "code",
   "execution_count": 20,
   "metadata": {},
   "outputs": [
    {
     "data": {
      "text/plain": [
       "[['I', 'love', 'NLP'],\n",
       " ['Today', 'I', 'learnt', 'NLP'],\n",
       " ['AI', 'is', 'the', 'future'],\n",
       " ['I', 'like', 'Machine', 'Learning'],\n",
       " ['I', 'went', 'to', 'my', 'university', 'yesterday'],\n",
       " ['AI', 'is', 'super', 'fanstastic']]"
      ]
     },
     "execution_count": 20,
     "metadata": {},
     "output_type": "execute_result"
    }
   ],
   "source": [
    "bagOfWords_new"
   ]
  },
  {
   "cell_type": "code",
   "execution_count": 22,
   "metadata": {},
   "outputs": [
    {
     "data": {
      "text/plain": [
       "{'AI',\n",
       " 'I',\n",
       " 'Learning',\n",
       " 'Machine',\n",
       " 'NLP',\n",
       " 'Today',\n",
       " 'fanstastic',\n",
       " 'future',\n",
       " 'is',\n",
       " 'learnt',\n",
       " 'like',\n",
       " 'love',\n",
       " 'my',\n",
       " 'super',\n",
       " 'the',\n",
       " 'to',\n",
       " 'university',\n",
       " 'went',\n",
       " 'yesterday'}"
      ]
     },
     "execution_count": 22,
     "metadata": {},
     "output_type": "execute_result"
    }
   ],
   "source": [
    "words_new = set(itertools.chain(*bagOfWords_new))\n",
    "words_new"
   ]
  },
  {
   "cell_type": "code",
   "execution_count": 23,
   "metadata": {},
   "outputs": [],
   "source": [
    "wordDict_new = wordDict.copy()\n",
    "for i in range(len(wordDict_new)):\n",
    "    wordDict_new[i] = dict.fromkeys(words_new,0)\n",
    "wordDictS = dict.fromkeys(words_new,0)\n",
    "wordDict_new.append(wordDictS)"
   ]
  },
  {
   "cell_type": "code",
   "execution_count": 27,
   "metadata": {},
   "outputs": [],
   "source": [
    "for i in range(len(wordDict_new)):\n",
    "    wordDict_new[i] = countWords(wordDict_new[i],bagOfWords_new[i]) "
   ]
  },
  {
   "cell_type": "code",
   "execution_count": 28,
   "metadata": {},
   "outputs": [
    {
     "data": {
      "text/plain": [
       "[{'love': 1,\n",
       "  'is': 0,\n",
       "  'Machine': 0,\n",
       "  'the': 0,\n",
       "  'went': 0,\n",
       "  'university': 0,\n",
       "  'AI': 0,\n",
       "  'like': 0,\n",
       "  'learnt': 0,\n",
       "  'Today': 0,\n",
       "  'future': 0,\n",
       "  'my': 0,\n",
       "  'yesterday': 0,\n",
       "  'NLP': 1,\n",
       "  'Learning': 0,\n",
       "  'super': 0,\n",
       "  'fanstastic': 0,\n",
       "  'I': 1,\n",
       "  'to': 0},\n",
       " {'love': 0,\n",
       "  'is': 0,\n",
       "  'Machine': 0,\n",
       "  'the': 0,\n",
       "  'went': 0,\n",
       "  'university': 0,\n",
       "  'AI': 0,\n",
       "  'like': 0,\n",
       "  'learnt': 1,\n",
       "  'Today': 1,\n",
       "  'future': 0,\n",
       "  'my': 0,\n",
       "  'yesterday': 0,\n",
       "  'NLP': 1,\n",
       "  'Learning': 0,\n",
       "  'super': 0,\n",
       "  'fanstastic': 0,\n",
       "  'I': 1,\n",
       "  'to': 0},\n",
       " {'love': 0,\n",
       "  'is': 1,\n",
       "  'Machine': 0,\n",
       "  'the': 1,\n",
       "  'went': 0,\n",
       "  'university': 0,\n",
       "  'AI': 1,\n",
       "  'like': 0,\n",
       "  'learnt': 0,\n",
       "  'Today': 0,\n",
       "  'future': 1,\n",
       "  'my': 0,\n",
       "  'yesterday': 0,\n",
       "  'NLP': 0,\n",
       "  'Learning': 0,\n",
       "  'super': 0,\n",
       "  'fanstastic': 0,\n",
       "  'I': 0,\n",
       "  'to': 0},\n",
       " {'love': 0,\n",
       "  'is': 0,\n",
       "  'Machine': 1,\n",
       "  'the': 0,\n",
       "  'went': 0,\n",
       "  'university': 0,\n",
       "  'AI': 0,\n",
       "  'like': 1,\n",
       "  'learnt': 0,\n",
       "  'Today': 0,\n",
       "  'future': 0,\n",
       "  'my': 0,\n",
       "  'yesterday': 0,\n",
       "  'NLP': 0,\n",
       "  'Learning': 1,\n",
       "  'super': 0,\n",
       "  'fanstastic': 0,\n",
       "  'I': 1,\n",
       "  'to': 0},\n",
       " {'love': 0,\n",
       "  'is': 0,\n",
       "  'Machine': 0,\n",
       "  'the': 0,\n",
       "  'went': 1,\n",
       "  'university': 1,\n",
       "  'AI': 0,\n",
       "  'like': 0,\n",
       "  'learnt': 0,\n",
       "  'Today': 0,\n",
       "  'future': 0,\n",
       "  'my': 1,\n",
       "  'yesterday': 1,\n",
       "  'NLP': 0,\n",
       "  'Learning': 0,\n",
       "  'super': 0,\n",
       "  'fanstastic': 0,\n",
       "  'I': 1,\n",
       "  'to': 1},\n",
       " {'love': 0,\n",
       "  'is': 1,\n",
       "  'Machine': 0,\n",
       "  'the': 0,\n",
       "  'went': 0,\n",
       "  'university': 0,\n",
       "  'AI': 1,\n",
       "  'like': 0,\n",
       "  'learnt': 0,\n",
       "  'Today': 0,\n",
       "  'future': 0,\n",
       "  'my': 0,\n",
       "  'yesterday': 0,\n",
       "  'NLP': 0,\n",
       "  'Learning': 0,\n",
       "  'super': 1,\n",
       "  'fanstastic': 1,\n",
       "  'I': 0,\n",
       "  'to': 0}]"
      ]
     },
     "execution_count": 28,
     "metadata": {},
     "output_type": "execute_result"
    }
   ],
   "source": [
    "wordDict_new"
   ]
  },
  {
   "cell_type": "code",
   "execution_count": 29,
   "metadata": {},
   "outputs": [],
   "source": [
    "\n",
    "tfidf_new = tfidf.copy()\n",
    "for i in range(len(tfidf_new)):\n",
    "    tfidf_new[i] = countTF(wordDict_new[i],bagOfWords_new[i])\n",
    "tfS = countTF(wordDictS,bagOfWordsS)\n",
    "idfS = calculateIDF(wordDict_new)\n",
    "tfidfS = tfIdf(tfS,idfS)\n",
    "    "
   ]
  },
  {
   "cell_type": "code",
   "execution_count": 32,
   "metadata": {},
   "outputs": [
    {
     "data": {
      "text/html": [
       "<div>\n",
       "<style scoped>\n",
       "    .dataframe tbody tr th:only-of-type {\n",
       "        vertical-align: middle;\n",
       "    }\n",
       "\n",
       "    .dataframe tbody tr th {\n",
       "        vertical-align: top;\n",
       "    }\n",
       "\n",
       "    .dataframe thead th {\n",
       "        text-align: right;\n",
       "    }\n",
       "</style>\n",
       "<table border=\"1\" class=\"dataframe\">\n",
       "  <thead>\n",
       "    <tr style=\"text-align: right;\">\n",
       "      <th></th>\n",
       "      <th>love</th>\n",
       "      <th>is</th>\n",
       "      <th>Machine</th>\n",
       "      <th>the</th>\n",
       "      <th>went</th>\n",
       "      <th>university</th>\n",
       "      <th>AI</th>\n",
       "      <th>like</th>\n",
       "      <th>learnt</th>\n",
       "      <th>Today</th>\n",
       "      <th>future</th>\n",
       "      <th>my</th>\n",
       "      <th>yesterday</th>\n",
       "      <th>NLP</th>\n",
       "      <th>Learning</th>\n",
       "      <th>super</th>\n",
       "      <th>fanstastic</th>\n",
       "      <th>I</th>\n",
       "      <th>to</th>\n",
       "    </tr>\n",
       "  </thead>\n",
       "  <tbody>\n",
       "    <tr>\n",
       "      <th>0</th>\n",
       "      <td>0.333333</td>\n",
       "      <td>0.00</td>\n",
       "      <td>0.00</td>\n",
       "      <td>0.00</td>\n",
       "      <td>0.000000</td>\n",
       "      <td>0.000000</td>\n",
       "      <td>0.00</td>\n",
       "      <td>0.00</td>\n",
       "      <td>0.00</td>\n",
       "      <td>0.00</td>\n",
       "      <td>0.00</td>\n",
       "      <td>0.000000</td>\n",
       "      <td>0.000000</td>\n",
       "      <td>0.333333</td>\n",
       "      <td>0.00</td>\n",
       "      <td>0.0</td>\n",
       "      <td>0.0</td>\n",
       "      <td>0.333333</td>\n",
       "      <td>0.000000</td>\n",
       "    </tr>\n",
       "    <tr>\n",
       "      <th>1</th>\n",
       "      <td>0.000000</td>\n",
       "      <td>0.00</td>\n",
       "      <td>0.00</td>\n",
       "      <td>0.00</td>\n",
       "      <td>0.000000</td>\n",
       "      <td>0.000000</td>\n",
       "      <td>0.00</td>\n",
       "      <td>0.00</td>\n",
       "      <td>0.25</td>\n",
       "      <td>0.25</td>\n",
       "      <td>0.00</td>\n",
       "      <td>0.000000</td>\n",
       "      <td>0.000000</td>\n",
       "      <td>0.250000</td>\n",
       "      <td>0.00</td>\n",
       "      <td>0.0</td>\n",
       "      <td>0.0</td>\n",
       "      <td>0.250000</td>\n",
       "      <td>0.000000</td>\n",
       "    </tr>\n",
       "    <tr>\n",
       "      <th>2</th>\n",
       "      <td>0.000000</td>\n",
       "      <td>0.25</td>\n",
       "      <td>0.00</td>\n",
       "      <td>0.25</td>\n",
       "      <td>0.000000</td>\n",
       "      <td>0.000000</td>\n",
       "      <td>0.25</td>\n",
       "      <td>0.00</td>\n",
       "      <td>0.00</td>\n",
       "      <td>0.00</td>\n",
       "      <td>0.25</td>\n",
       "      <td>0.000000</td>\n",
       "      <td>0.000000</td>\n",
       "      <td>0.000000</td>\n",
       "      <td>0.00</td>\n",
       "      <td>0.0</td>\n",
       "      <td>0.0</td>\n",
       "      <td>0.000000</td>\n",
       "      <td>0.000000</td>\n",
       "    </tr>\n",
       "    <tr>\n",
       "      <th>3</th>\n",
       "      <td>0.000000</td>\n",
       "      <td>0.00</td>\n",
       "      <td>0.25</td>\n",
       "      <td>0.00</td>\n",
       "      <td>0.000000</td>\n",
       "      <td>0.000000</td>\n",
       "      <td>0.00</td>\n",
       "      <td>0.25</td>\n",
       "      <td>0.00</td>\n",
       "      <td>0.00</td>\n",
       "      <td>0.00</td>\n",
       "      <td>0.000000</td>\n",
       "      <td>0.000000</td>\n",
       "      <td>0.000000</td>\n",
       "      <td>0.25</td>\n",
       "      <td>0.0</td>\n",
       "      <td>0.0</td>\n",
       "      <td>0.250000</td>\n",
       "      <td>0.000000</td>\n",
       "    </tr>\n",
       "    <tr>\n",
       "      <th>4</th>\n",
       "      <td>0.000000</td>\n",
       "      <td>0.00</td>\n",
       "      <td>0.00</td>\n",
       "      <td>0.00</td>\n",
       "      <td>0.166667</td>\n",
       "      <td>0.166667</td>\n",
       "      <td>0.00</td>\n",
       "      <td>0.00</td>\n",
       "      <td>0.00</td>\n",
       "      <td>0.00</td>\n",
       "      <td>0.00</td>\n",
       "      <td>0.166667</td>\n",
       "      <td>0.166667</td>\n",
       "      <td>0.000000</td>\n",
       "      <td>0.00</td>\n",
       "      <td>0.0</td>\n",
       "      <td>0.0</td>\n",
       "      <td>0.166667</td>\n",
       "      <td>0.166667</td>\n",
       "    </tr>\n",
       "  </tbody>\n",
       "</table>\n",
       "</div>"
      ],
      "text/plain": [
       "       love    is  Machine   the      went  university    AI  like  learnt  \\\n",
       "0  0.333333  0.00     0.00  0.00  0.000000    0.000000  0.00  0.00    0.00   \n",
       "1  0.000000  0.00     0.00  0.00  0.000000    0.000000  0.00  0.00    0.25   \n",
       "2  0.000000  0.25     0.00  0.25  0.000000    0.000000  0.25  0.00    0.00   \n",
       "3  0.000000  0.00     0.25  0.00  0.000000    0.000000  0.00  0.25    0.00   \n",
       "4  0.000000  0.00     0.00  0.00  0.166667    0.166667  0.00  0.00    0.00   \n",
       "\n",
       "   Today  future        my  yesterday       NLP  Learning  super  fanstastic  \\\n",
       "0   0.00    0.00  0.000000   0.000000  0.333333      0.00    0.0         0.0   \n",
       "1   0.25    0.00  0.000000   0.000000  0.250000      0.00    0.0         0.0   \n",
       "2   0.00    0.25  0.000000   0.000000  0.000000      0.00    0.0         0.0   \n",
       "3   0.00    0.00  0.000000   0.000000  0.000000      0.25    0.0         0.0   \n",
       "4   0.00    0.00  0.166667   0.166667  0.000000      0.00    0.0         0.0   \n",
       "\n",
       "          I        to  \n",
       "0  0.333333  0.000000  \n",
       "1  0.250000  0.000000  \n",
       "2  0.000000  0.000000  \n",
       "3  0.250000  0.000000  \n",
       "4  0.166667  0.166667  "
      ]
     },
     "execution_count": 32,
     "metadata": {},
     "output_type": "execute_result"
    }
   ],
   "source": [
    "pd.DataFrame(tfidf_new)"
   ]
  },
  {
   "cell_type": "code",
   "execution_count": 39,
   "metadata": {},
   "outputs": [
    {
     "data": {
      "text/html": [
       "<div>\n",
       "<style scoped>\n",
       "    .dataframe tbody tr th:only-of-type {\n",
       "        vertical-align: middle;\n",
       "    }\n",
       "\n",
       "    .dataframe tbody tr th {\n",
       "        vertical-align: top;\n",
       "    }\n",
       "\n",
       "    .dataframe thead th {\n",
       "        text-align: right;\n",
       "    }\n",
       "</style>\n",
       "<table border=\"1\" class=\"dataframe\">\n",
       "  <thead>\n",
       "    <tr style=\"text-align: right;\">\n",
       "      <th></th>\n",
       "      <th>love</th>\n",
       "      <th>is</th>\n",
       "      <th>Machine</th>\n",
       "      <th>the</th>\n",
       "      <th>went</th>\n",
       "      <th>university</th>\n",
       "      <th>AI</th>\n",
       "      <th>like</th>\n",
       "      <th>learnt</th>\n",
       "      <th>Today</th>\n",
       "      <th>future</th>\n",
       "      <th>my</th>\n",
       "      <th>yesterday</th>\n",
       "      <th>NLP</th>\n",
       "      <th>Learning</th>\n",
       "      <th>super</th>\n",
       "      <th>fanstastic</th>\n",
       "      <th>I</th>\n",
       "      <th>to</th>\n",
       "    </tr>\n",
       "  </thead>\n",
       "  <tbody>\n",
       "    <tr>\n",
       "      <th>0</th>\n",
       "      <td>0.333333</td>\n",
       "      <td>0.000000</td>\n",
       "      <td>0.00</td>\n",
       "      <td>0.00</td>\n",
       "      <td>0.000000</td>\n",
       "      <td>0.000000</td>\n",
       "      <td>0.000000</td>\n",
       "      <td>0.00</td>\n",
       "      <td>0.00</td>\n",
       "      <td>0.00</td>\n",
       "      <td>0.00</td>\n",
       "      <td>0.000000</td>\n",
       "      <td>0.000000</td>\n",
       "      <td>0.333333</td>\n",
       "      <td>0.00</td>\n",
       "      <td>0.000000</td>\n",
       "      <td>0.000000</td>\n",
       "      <td>0.333333</td>\n",
       "      <td>0.000000</td>\n",
       "    </tr>\n",
       "    <tr>\n",
       "      <th>1</th>\n",
       "      <td>0.000000</td>\n",
       "      <td>0.000000</td>\n",
       "      <td>0.00</td>\n",
       "      <td>0.00</td>\n",
       "      <td>0.000000</td>\n",
       "      <td>0.000000</td>\n",
       "      <td>0.000000</td>\n",
       "      <td>0.00</td>\n",
       "      <td>0.25</td>\n",
       "      <td>0.25</td>\n",
       "      <td>0.00</td>\n",
       "      <td>0.000000</td>\n",
       "      <td>0.000000</td>\n",
       "      <td>0.250000</td>\n",
       "      <td>0.00</td>\n",
       "      <td>0.000000</td>\n",
       "      <td>0.000000</td>\n",
       "      <td>0.250000</td>\n",
       "      <td>0.000000</td>\n",
       "    </tr>\n",
       "    <tr>\n",
       "      <th>2</th>\n",
       "      <td>0.000000</td>\n",
       "      <td>0.250000</td>\n",
       "      <td>0.00</td>\n",
       "      <td>0.25</td>\n",
       "      <td>0.000000</td>\n",
       "      <td>0.000000</td>\n",
       "      <td>0.250000</td>\n",
       "      <td>0.00</td>\n",
       "      <td>0.00</td>\n",
       "      <td>0.00</td>\n",
       "      <td>0.25</td>\n",
       "      <td>0.000000</td>\n",
       "      <td>0.000000</td>\n",
       "      <td>0.000000</td>\n",
       "      <td>0.00</td>\n",
       "      <td>0.000000</td>\n",
       "      <td>0.000000</td>\n",
       "      <td>0.000000</td>\n",
       "      <td>0.000000</td>\n",
       "    </tr>\n",
       "    <tr>\n",
       "      <th>3</th>\n",
       "      <td>0.000000</td>\n",
       "      <td>0.000000</td>\n",
       "      <td>0.25</td>\n",
       "      <td>0.00</td>\n",
       "      <td>0.000000</td>\n",
       "      <td>0.000000</td>\n",
       "      <td>0.000000</td>\n",
       "      <td>0.25</td>\n",
       "      <td>0.00</td>\n",
       "      <td>0.00</td>\n",
       "      <td>0.00</td>\n",
       "      <td>0.000000</td>\n",
       "      <td>0.000000</td>\n",
       "      <td>0.000000</td>\n",
       "      <td>0.25</td>\n",
       "      <td>0.000000</td>\n",
       "      <td>0.000000</td>\n",
       "      <td>0.250000</td>\n",
       "      <td>0.000000</td>\n",
       "    </tr>\n",
       "    <tr>\n",
       "      <th>4</th>\n",
       "      <td>0.000000</td>\n",
       "      <td>0.000000</td>\n",
       "      <td>0.00</td>\n",
       "      <td>0.00</td>\n",
       "      <td>0.166667</td>\n",
       "      <td>0.166667</td>\n",
       "      <td>0.000000</td>\n",
       "      <td>0.00</td>\n",
       "      <td>0.00</td>\n",
       "      <td>0.00</td>\n",
       "      <td>0.00</td>\n",
       "      <td>0.166667</td>\n",
       "      <td>0.166667</td>\n",
       "      <td>0.000000</td>\n",
       "      <td>0.00</td>\n",
       "      <td>0.000000</td>\n",
       "      <td>0.000000</td>\n",
       "      <td>0.166667</td>\n",
       "      <td>0.166667</td>\n",
       "    </tr>\n",
       "    <tr>\n",
       "      <th>5</th>\n",
       "      <td>0.000000</td>\n",
       "      <td>0.173287</td>\n",
       "      <td>0.00</td>\n",
       "      <td>0.00</td>\n",
       "      <td>0.000000</td>\n",
       "      <td>0.000000</td>\n",
       "      <td>0.173287</td>\n",
       "      <td>0.00</td>\n",
       "      <td>0.00</td>\n",
       "      <td>0.00</td>\n",
       "      <td>0.00</td>\n",
       "      <td>0.000000</td>\n",
       "      <td>0.000000</td>\n",
       "      <td>0.000000</td>\n",
       "      <td>0.00</td>\n",
       "      <td>0.274653</td>\n",
       "      <td>0.274653</td>\n",
       "      <td>0.000000</td>\n",
       "      <td>0.000000</td>\n",
       "    </tr>\n",
       "  </tbody>\n",
       "</table>\n",
       "</div>"
      ],
      "text/plain": [
       "       love        is  Machine   the      went  university        AI  like  \\\n",
       "0  0.333333  0.000000     0.00  0.00  0.000000    0.000000  0.000000  0.00   \n",
       "1  0.000000  0.000000     0.00  0.00  0.000000    0.000000  0.000000  0.00   \n",
       "2  0.000000  0.250000     0.00  0.25  0.000000    0.000000  0.250000  0.00   \n",
       "3  0.000000  0.000000     0.25  0.00  0.000000    0.000000  0.000000  0.25   \n",
       "4  0.000000  0.000000     0.00  0.00  0.166667    0.166667  0.000000  0.00   \n",
       "5  0.000000  0.173287     0.00  0.00  0.000000    0.000000  0.173287  0.00   \n",
       "\n",
       "   learnt  Today  future        my  yesterday       NLP  Learning     super  \\\n",
       "0    0.00   0.00    0.00  0.000000   0.000000  0.333333      0.00  0.000000   \n",
       "1    0.25   0.25    0.00  0.000000   0.000000  0.250000      0.00  0.000000   \n",
       "2    0.00   0.00    0.25  0.000000   0.000000  0.000000      0.00  0.000000   \n",
       "3    0.00   0.00    0.00  0.000000   0.000000  0.000000      0.25  0.000000   \n",
       "4    0.00   0.00    0.00  0.166667   0.166667  0.000000      0.00  0.000000   \n",
       "5    0.00   0.00    0.00  0.000000   0.000000  0.000000      0.00  0.274653   \n",
       "\n",
       "   fanstastic         I        to  \n",
       "0    0.000000  0.333333  0.000000  \n",
       "1    0.000000  0.250000  0.000000  \n",
       "2    0.000000  0.000000  0.000000  \n",
       "3    0.000000  0.250000  0.000000  \n",
       "4    0.000000  0.166667  0.166667  \n",
       "5    0.274653  0.000000  0.000000  "
      ]
     },
     "execution_count": 39,
     "metadata": {},
     "output_type": "execute_result"
    }
   ],
   "source": [
    "tfidf_new.append(tfidfS)\n",
    "tfidf_new_pd = pd.DataFrame(tfidf_new)\n",
    "tfidf_new_pd"
   ]
  },
  {
   "cell_type": "code",
   "execution_count": 41,
   "metadata": {},
   "outputs": [],
   "source": [
    "maxCos = 0\n",
    "maxIdx = 0\n",
    "for i in range(len(tfidf_new_pd)-1):\n",
    "    d = cosDistance(tfidf_new_pd.iloc[len(tfidf_new_pd)-1],tfidf_new_pd.iloc[i])\n",
    "    if maxCos < d:\n",
    "        maxCos = d\n",
    "        maxIdx = i"
   ]
  },
  {
   "cell_type": "code",
   "execution_count": 42,
   "metadata": {},
   "outputs": [
    {
     "data": {
      "text/plain": [
       "0.37731249435895575"
      ]
     },
     "execution_count": 42,
     "metadata": {},
     "output_type": "execute_result"
    }
   ],
   "source": [
    "maxCos"
   ]
  },
  {
   "cell_type": "code",
   "execution_count": 43,
   "metadata": {},
   "outputs": [
    {
     "data": {
      "text/plain": [
       "2"
      ]
     },
     "execution_count": 43,
     "metadata": {},
     "output_type": "execute_result"
    }
   ],
   "source": [
    "maxIdx"
   ]
  },
  {
   "cell_type": "code",
   "execution_count": 45,
   "metadata": {},
   "outputs": [
    {
     "data": {
      "text/plain": [
       "'AI is the future'"
      ]
     },
     "execution_count": 45,
     "metadata": {},
     "output_type": "execute_result"
    }
   ],
   "source": [
    "docC"
   ]
  }
 ],
 "metadata": {
  "kernelspec": {
   "display_name": "base",
   "language": "python",
   "name": "python3"
  },
  "language_info": {
   "codemirror_mode": {
    "name": "ipython",
    "version": 3
   },
   "file_extension": ".py",
   "mimetype": "text/x-python",
   "name": "python",
   "nbconvert_exporter": "python",
   "pygments_lexer": "ipython3",
   "version": "3.10.9"
  },
  "orig_nbformat": 4
 },
 "nbformat": 4,
 "nbformat_minor": 2
}
