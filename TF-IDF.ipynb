{
 "cells": [
  {
   "cell_type": "code",
   "execution_count": 54,
   "metadata": {},
   "outputs": [],
   "source": [
    "import math\n",
    "import itertools\n",
    "import pandas as pd"
   ]
  },
  {
   "attachments": {},
   "cell_type": "markdown",
   "metadata": {},
   "source": [
    "## Create Documents"
   ]
  },
  {
   "cell_type": "code",
   "execution_count": 31,
   "metadata": {},
   "outputs": [],
   "source": [
    "docA = \"I love NLP\"\n",
    "docB = \"Today I learnt NLP\"\n",
    "docC = \"AI is the future\"\n",
    "docD = \"I like Machine Learning\"\n",
    "docE = \"I went to my university yesterday\"\n",
    "docs = [docA, docB, docC, docD, docE]\n"
   ]
  },
  {
   "attachments": {},
   "cell_type": "markdown",
   "metadata": {},
   "source": [
    "## Convert text into vectors of numbers\n",
    "### Bag Of Words"
   ]
  },
  {
   "cell_type": "code",
   "execution_count": 7,
   "metadata": {},
   "outputs": [],
   "source": [
    "bagOfWordsA = docA.split(\" \")\n",
    "bagOfWordsB = docB.split(\" \")\n",
    "bagOfWordsC = docC.split(\" \")\n",
    "bagOfWordsD = docD.split(\" \")\n",
    "bagOfWordsE = docE.split(\" \")"
   ]
  },
  {
   "attachments": {},
   "cell_type": "markdown",
   "metadata": {},
   "source": [
    "### Remove duplicated words"
   ]
  },
  {
   "cell_type": "code",
   "execution_count": 8,
   "metadata": {},
   "outputs": [
    {
     "data": {
      "text/plain": [
       "{'AI',\n",
       " 'I',\n",
       " 'Learning',\n",
       " 'Machine',\n",
       " 'NLP',\n",
       " 'Today',\n",
       " 'future',\n",
       " 'is',\n",
       " 'learnt',\n",
       " 'like',\n",
       " 'love',\n",
       " 'my',\n",
       " 'the',\n",
       " 'to',\n",
       " 'university',\n",
       " 'went',\n",
       " 'yesterday'}"
      ]
     },
     "execution_count": 8,
     "metadata": {},
     "output_type": "execute_result"
    }
   ],
   "source": [
    "bagOfWords = [bagOfWordsA, bagOfWordsB, bagOfWordsC, bagOfWordsD, bagOfWordsE]\n",
    "words = set(itertools.chain(*bagOfWords))\n",
    "words"
   ]
  },
  {
   "attachments": {},
   "cell_type": "markdown",
   "metadata": {},
   "source": [
    "## Count the number of each word\n",
    "\n",
    "### Store the number of words using dictionary"
   ]
  },
  {
   "cell_type": "code",
   "execution_count": 25,
   "metadata": {},
   "outputs": [],
   "source": [
    "wordDictA = dict.fromkeys(words,0)\n",
    "wordDictB = dict.fromkeys(words,0)\n",
    "wordDictC = dict.fromkeys(words,0)\n",
    "wordDictD = dict.fromkeys(words,0)\n",
    "wordDictE = dict.fromkeys(words,0)\n",
    "wordDict = [wordDictA,wordDictB, wordDictC, wordDictD, wordDictE]"
   ]
  },
  {
   "cell_type": "code",
   "execution_count": 21,
   "metadata": {},
   "outputs": [],
   "source": [
    "def countWords(wordDict,bagOfWord):\n",
    "    for w in bagOfWord:\n",
    "        wordDict[w]+= 1\n",
    "    return wordDict"
   ]
  },
  {
   "cell_type": "code",
   "execution_count": 29,
   "metadata": {},
   "outputs": [],
   "source": [
    "for i in range(len(wordDict)):\n",
    "    wordDict[i] = countWords(wordDict[i],bagOfWords[i])   "
   ]
  },
  {
   "attachments": {},
   "cell_type": "markdown",
   "metadata": {},
   "source": [
    "## Calculate TF-IDF\n",
    "### Calculate TF\n",
    "TF = (num of the word w) / (num of total words)"
   ]
  },
  {
   "cell_type": "code",
   "execution_count": 30,
   "metadata": {},
   "outputs": [],
   "source": [
    "def countTF(wordDict,bagOfWord):\n",
    "    tfDict={}\n",
    "    for word,count in wordDict.items():\n",
    "        tfDict[word] = count/len(bagOfWord)\n",
    "    return tfDict"
   ]
  },
  {
   "cell_type": "code",
   "execution_count": 53,
   "metadata": {},
   "outputs": [],
   "source": [
    "tfA = countTF(wordDictA,bagOfWordsA)\n",
    "tfB = countTF(wordDictB,bagOfWordsB)\n",
    "tfC = countTF(wordDictC,bagOfWordsC)\n",
    "tfD = countTF(wordDictD,bagOfWordsD)\n",
    "tfE = countTF(wordDictE,bagOfWordsE)"
   ]
  },
  {
   "attachments": {},
   "cell_type": "markdown",
   "metadata": {},
   "source": [
    "### Calculate IDF\n",
    "IDF = log((num of docs/(num of docs contains w + 1))"
   ]
  },
  {
   "cell_type": "code",
   "execution_count": 65,
   "metadata": {},
   "outputs": [],
   "source": [
    "def calculateIDF(wordDict):\n",
    "    idfDict=dict.fromkeys(wordDict[0],0)\n",
    "    N = len(wordDict)\n",
    "    for wd in wordDict:\n",
    "        for w,i in wd.items():\n",
    "            if i>0:\n",
    "                idfDict[w] += 1 \n",
    "\n",
    "    for word,num in idfDict.items():\n",
    "        idfDict[word]= math.log(N/(num+1))\n",
    "    \n",
    "    return idfDict"
   ]
  },
  {
   "cell_type": "code",
   "execution_count": 66,
   "metadata": {},
   "outputs": [
    {
     "data": {
      "text/plain": [
       "{'AI': 0.9162907318741551,\n",
       " 'yesterday': 0.9162907318741551,\n",
       " 'NLP': 0.5108256237659907,\n",
       " 'university': 0.9162907318741551,\n",
       " 'my': 0.9162907318741551,\n",
       " 'like': 0.9162907318741551,\n",
       " 'went': 0.9162907318741551,\n",
       " 'Today': 0.9162907318741551,\n",
       " 'the': 0.9162907318741551,\n",
       " 'is': 0.9162907318741551,\n",
       " 'I': 0.0,\n",
       " 'learnt': 0.9162907318741551,\n",
       " 'to': 0.9162907318741551,\n",
       " 'future': 0.9162907318741551,\n",
       " 'love': 0.9162907318741551,\n",
       " 'Machine': 0.9162907318741551,\n",
       " 'Learning': 0.9162907318741551}"
      ]
     },
     "execution_count": 66,
     "metadata": {},
     "output_type": "execute_result"
    }
   ],
   "source": [
    "idf = calculateIDF(wordDict)\n",
    "idf"
   ]
  },
  {
   "attachments": {},
   "cell_type": "markdown",
   "metadata": {},
   "source": [
    "### Calculate TF-IDF\n",
    "TF-IDF = TF x IDF"
   ]
  },
  {
   "cell_type": "code",
   "execution_count": 67,
   "metadata": {},
   "outputs": [],
   "source": [
    "def tfIdf(tf,idf):\n",
    "    tfidf={}\n",
    "    for word,num in tf.items():\n",
    "        tfidf[word]= num * idf[word]\n",
    "    return tfidf     "
   ]
  },
  {
   "cell_type": "code",
   "execution_count": 68,
   "metadata": {},
   "outputs": [
    {
     "data": {
      "text/html": [
       "<div>\n",
       "<style scoped>\n",
       "    .dataframe tbody tr th:only-of-type {\n",
       "        vertical-align: middle;\n",
       "    }\n",
       "\n",
       "    .dataframe tbody tr th {\n",
       "        vertical-align: top;\n",
       "    }\n",
       "\n",
       "    .dataframe thead th {\n",
       "        text-align: right;\n",
       "    }\n",
       "</style>\n",
       "<table border=\"1\" class=\"dataframe\">\n",
       "  <thead>\n",
       "    <tr style=\"text-align: right;\">\n",
       "      <th></th>\n",
       "      <th>AI</th>\n",
       "      <th>yesterday</th>\n",
       "      <th>NLP</th>\n",
       "      <th>university</th>\n",
       "      <th>my</th>\n",
       "      <th>like</th>\n",
       "      <th>went</th>\n",
       "      <th>Today</th>\n",
       "      <th>the</th>\n",
       "      <th>is</th>\n",
       "      <th>I</th>\n",
       "      <th>learnt</th>\n",
       "      <th>to</th>\n",
       "      <th>future</th>\n",
       "      <th>love</th>\n",
       "      <th>Machine</th>\n",
       "      <th>Learning</th>\n",
       "    </tr>\n",
       "  </thead>\n",
       "  <tbody>\n",
       "    <tr>\n",
       "      <th>0</th>\n",
       "      <td>0.000000</td>\n",
       "      <td>0.000000</td>\n",
       "      <td>0.510826</td>\n",
       "      <td>0.000000</td>\n",
       "      <td>0.000000</td>\n",
       "      <td>0.000000</td>\n",
       "      <td>0.000000</td>\n",
       "      <td>0.000000</td>\n",
       "      <td>0.000000</td>\n",
       "      <td>0.000000</td>\n",
       "      <td>0.0</td>\n",
       "      <td>0.000000</td>\n",
       "      <td>0.000000</td>\n",
       "      <td>0.000000</td>\n",
       "      <td>0.916291</td>\n",
       "      <td>0.000000</td>\n",
       "      <td>0.000000</td>\n",
       "    </tr>\n",
       "    <tr>\n",
       "      <th>1</th>\n",
       "      <td>0.000000</td>\n",
       "      <td>0.000000</td>\n",
       "      <td>0.383119</td>\n",
       "      <td>0.000000</td>\n",
       "      <td>0.000000</td>\n",
       "      <td>0.000000</td>\n",
       "      <td>0.000000</td>\n",
       "      <td>0.687218</td>\n",
       "      <td>0.000000</td>\n",
       "      <td>0.000000</td>\n",
       "      <td>0.0</td>\n",
       "      <td>0.687218</td>\n",
       "      <td>0.000000</td>\n",
       "      <td>0.000000</td>\n",
       "      <td>0.000000</td>\n",
       "      <td>0.000000</td>\n",
       "      <td>0.000000</td>\n",
       "    </tr>\n",
       "    <tr>\n",
       "      <th>2</th>\n",
       "      <td>0.687218</td>\n",
       "      <td>0.000000</td>\n",
       "      <td>0.000000</td>\n",
       "      <td>0.000000</td>\n",
       "      <td>0.000000</td>\n",
       "      <td>0.000000</td>\n",
       "      <td>0.000000</td>\n",
       "      <td>0.000000</td>\n",
       "      <td>0.687218</td>\n",
       "      <td>0.687218</td>\n",
       "      <td>0.0</td>\n",
       "      <td>0.000000</td>\n",
       "      <td>0.000000</td>\n",
       "      <td>0.687218</td>\n",
       "      <td>0.000000</td>\n",
       "      <td>0.000000</td>\n",
       "      <td>0.000000</td>\n",
       "    </tr>\n",
       "    <tr>\n",
       "      <th>3</th>\n",
       "      <td>0.000000</td>\n",
       "      <td>0.000000</td>\n",
       "      <td>0.000000</td>\n",
       "      <td>0.000000</td>\n",
       "      <td>0.000000</td>\n",
       "      <td>0.687218</td>\n",
       "      <td>0.000000</td>\n",
       "      <td>0.000000</td>\n",
       "      <td>0.000000</td>\n",
       "      <td>0.000000</td>\n",
       "      <td>0.0</td>\n",
       "      <td>0.000000</td>\n",
       "      <td>0.000000</td>\n",
       "      <td>0.000000</td>\n",
       "      <td>0.000000</td>\n",
       "      <td>0.687218</td>\n",
       "      <td>0.687218</td>\n",
       "    </tr>\n",
       "    <tr>\n",
       "      <th>4</th>\n",
       "      <td>0.000000</td>\n",
       "      <td>0.458145</td>\n",
       "      <td>0.000000</td>\n",
       "      <td>0.458145</td>\n",
       "      <td>0.458145</td>\n",
       "      <td>0.000000</td>\n",
       "      <td>0.458145</td>\n",
       "      <td>0.000000</td>\n",
       "      <td>0.000000</td>\n",
       "      <td>0.000000</td>\n",
       "      <td>0.0</td>\n",
       "      <td>0.000000</td>\n",
       "      <td>0.458145</td>\n",
       "      <td>0.000000</td>\n",
       "      <td>0.000000</td>\n",
       "      <td>0.000000</td>\n",
       "      <td>0.000000</td>\n",
       "    </tr>\n",
       "  </tbody>\n",
       "</table>\n",
       "</div>"
      ],
      "text/plain": [
       "         AI  yesterday       NLP  university        my      like      went  \\\n",
       "0  0.000000   0.000000  0.510826    0.000000  0.000000  0.000000  0.000000   \n",
       "1  0.000000   0.000000  0.383119    0.000000  0.000000  0.000000  0.000000   \n",
       "2  0.687218   0.000000  0.000000    0.000000  0.000000  0.000000  0.000000   \n",
       "3  0.000000   0.000000  0.000000    0.000000  0.000000  0.687218  0.000000   \n",
       "4  0.000000   0.458145  0.000000    0.458145  0.458145  0.000000  0.458145   \n",
       "\n",
       "      Today       the        is    I    learnt        to    future      love  \\\n",
       "0  0.000000  0.000000  0.000000  0.0  0.000000  0.000000  0.000000  0.916291   \n",
       "1  0.687218  0.000000  0.000000  0.0  0.687218  0.000000  0.000000  0.000000   \n",
       "2  0.000000  0.687218  0.687218  0.0  0.000000  0.000000  0.687218  0.000000   \n",
       "3  0.000000  0.000000  0.000000  0.0  0.000000  0.000000  0.000000  0.000000   \n",
       "4  0.000000  0.000000  0.000000  0.0  0.000000  0.458145  0.000000  0.000000   \n",
       "\n",
       "    Machine  Learning  \n",
       "0  0.000000  0.000000  \n",
       "1  0.000000  0.000000  \n",
       "2  0.000000  0.000000  \n",
       "3  0.687218  0.687218  \n",
       "4  0.000000  0.000000  "
      ]
     },
     "execution_count": 68,
     "metadata": {},
     "output_type": "execute_result"
    }
   ],
   "source": [
    "tfidfA = tfIdf(tfA,idf)\n",
    "tfidfB = tfIdf(tfB,idf)\n",
    "tfidfC = tfIdf(tfC,idf)\n",
    "tfidfD = tfIdf(tfD,idf)\n",
    "tfidfE = tfIdf(tfE,idf)\n",
    "\n",
    "tfidf = pd.DataFrame([tfidfA,tfidfB, tfidfC, tfidfD, tfidfE])\n",
    "tfidf"
   ]
  }
 ],
 "metadata": {
  "kernelspec": {
   "display_name": "base",
   "language": "python",
   "name": "python3"
  },
  "language_info": {
   "codemirror_mode": {
    "name": "ipython",
    "version": 3
   },
   "file_extension": ".py",
   "mimetype": "text/x-python",
   "name": "python",
   "nbconvert_exporter": "python",
   "pygments_lexer": "ipython3",
   "version": "3.10.9"
  },
  "orig_nbformat": 4
 },
 "nbformat": 4,
 "nbformat_minor": 2
}
